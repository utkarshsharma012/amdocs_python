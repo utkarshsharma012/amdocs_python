{
 "cells": [
  {
   "cell_type": "markdown",
   "id": "a586f69c",
   "metadata": {},
   "source": [
    "Intro Jupyter notebook\n",
    "\n",
    "*Intro Jupyter notebook*\n",
    "\n",
    "**Intro Jupyter notebook**\n",
    "\n",
    "# Intro Jupyter notebook"
   ]
  },
  {
   "cell_type": "markdown",
   "id": "367b8276",
   "metadata": {},
   "source": [
    "<h1>Intro Jupyter notebook</h1>"
   ]
  },
  {
   "cell_type": "markdown",
   "id": "5531893c",
   "metadata": {},
   "source": [
    "<img src='test.png'>"
   ]
  },
  {
   "cell_type": "code",
   "execution_count": null,
   "id": "e608f9a7",
   "metadata": {},
   "outputs": [],
   "source": [
    "a='10'"
   ]
  },
  {
   "cell_type": "code",
   "execution_count": null,
   "id": "a45e120e",
   "metadata": {},
   "outputs": [],
   "source": [
    "print(a)"
   ]
  },
  {
   "cell_type": "code",
   "execution_count": null,
   "id": "defb6de2",
   "metadata": {},
   "outputs": [],
   "source": [
    "a"
   ]
  }
 ],
 "metadata": {
  "kernelspec": {
   "display_name": "Python 3",
   "language": "python",
   "name": "python3"
  },
  "language_info": {
   "codemirror_mode": {
    "name": "ipython",
    "version": 3
   },
   "file_extension": ".py",
   "mimetype": "text/x-python",
   "name": "python",
   "nbconvert_exporter": "python",
   "pygments_lexer": "ipython3",
   "version": "3.7.0"
  }
 },
 "nbformat": 4,
 "nbformat_minor": 5
}
